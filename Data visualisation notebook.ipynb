{
 "cells": [
  {
   "cell_type": "markdown",
   "metadata": {},
   "source": [
    "# Data visualization notebook"
   ]
  },
  {
   "cell_type": "markdown",
   "metadata": {},
   "source": [
    "## The Four Levels of Measurement\n",
    "In order to choose an appropriate plot type or method of analysis for your data, you need to understand the types of data you have. One common method divides the data into four levels of measurement:\n",
    "\n",
    "### Qualitative or categorical types (non-numeric types)\n",
    "1. Nominal data: pure labels without inherent order (no label is intrinsically greater or less than any other)\n",
    "2. Ordinal data: labels with an intrinsic order or ranking (comparison operations can be made between values, but the magnitude of differences are not be well-defined)\n",
    "\n",
    "### Quantitative or numeric types\n",
    "3. Interval data: numeric values where absolute differences are meaningful (addition and subtraction operations can be made)\n",
    "4. Ratio data: numeric values where relative differences are meaningful (multiplication and division operations can be made)\n",
    "\n",
    "All quantitative-type variables also come in one of two varieties: discrete and continuous.\n",
    "#### Discrete quantitative variables\n",
    "Discrete quantitative variables can only take on a specific set values at some maximum level of precision.\n",
    "#### Continuous quantitative variables\n",
    "Continuous quantitative variables can (hypothetically) take on values to any level of precision."
   ]
  },
  {
   "cell_type": "code",
   "execution_count": 1,
   "metadata": {},
   "outputs": [],
   "source": [
    "# Import libraries for all the following charts\n",
    "import numpy as np\n",
    "import pandas as pd\n",
    "import matplotlib.pyplot as plt\n",
    "import seaborn as sb\n",
    "\n",
    "%matplotlib inline"
   ]
  },
  {
   "cell_type": "markdown",
   "metadata": {},
   "source": [
    "### Exploratory analysis\n",
    "Exploratory analysis is done when you are searching for insights. These visualizations don't need to be perfect. You are using plots to find insights, but they don't need to be aesthetically appealing. You are the consumer of these plots, and you need to be able to find the answer to your questions from these plots.\n"
   ]
  },
  {
   "cell_type": "markdown",
   "metadata": {},
   "source": [
    "### Univariate Exploration of Data\n",
    "#### 1. Bar chart ---- Qualitative data\n",
    "A bar chart is used to depict the distribution of a categorical variable. In a bar chart, each level of the categorical variable is depicted with a bar, whose height indicates the frequency of data points that take on that level. A basic bar chart of frequencies can be created through the use of seaborn's countplot function."
   ]
  },
  {
   "cell_type": "code",
   "execution_count": null,
   "metadata": {},
   "outputs": [],
   "source": [
    "# set one color for all the bars\n",
    "base_color = sb.color_palette()[0]\n",
    "\n",
    "# set the order of the bars:\n",
    "# -- for ordinal: set up the order according to the data (example is not from the same dataset)\n",
    "level_order = ['Alpha', 'Beta', 'Gamma', 'Delta']\n",
    "df['cat_var'] = df['cat_var'].astype('category', ordered = True, categories = level_order)\n",
    "sb.countplot(data = df, x = 'cat_var', color = base_color)\n",
    "\n",
    "# -- for norminal: set up the order according to the counts/frequency\n",
    "gen_order = pokemon.generation_id.value_counts().index\n",
    "sb.countplot(data = pokemon, x = 'generation_id', color = base_color, order = gen_order)\n",
    "\n",
    "# if the xtick labels are overlapping, it can be rotated to better show:\n",
    "plt.xticks(rotation = 90)\n",
    "\n",
    "# or transfer the figure to be horizontal by changing the x to y axis:\n",
    "sb.countplot(data = pokemon, y = 'type_1', color = base_color, order = gen_order)\n"
   ]
  },
  {
   "cell_type": "code",
   "execution_count": null,
   "metadata": {},
   "outputs": [],
   "source": [
    "# Relative_frequency\n",
    "\n",
    "n_pokemon = pokemon.shape[0]\n",
    "max_type_count = type_counts[0]\n",
    "max_prop = max_type_count / n_pokemon   # max proportion is 0.16\n",
    "\n",
    "tick_props = np.arange(0, max_prop, 0.02)  # set up the x ticks\n",
    "tick_names = ['{:0.2f}'.format(v) for v in tick_props]  # set up the xtick names with two digits\n",
    "\n",
    "\n",
    "pkmn_types = pokemon.melt(id_vars = ['id','species'], \n",
    "                          value_vars = ['type_1', 'type_2'], \n",
    "                          var_name = 'type_level', value_name = 'type').dropna()\n",
    "base_color = sb.color_palette()[0]\n",
    "sb.countplot(data = pkmn_types, y = 'type', color = base_color, order = type_order)\n",
    "plt.xticks(tick_props * n_pokemon, tick_names)  # Don't understand why tick_props need to multiply n --- counts are still in absolute value\n",
    "plt.xlabel('proportion')\n",
    "\n",
    "# to add the text to the bars to show the percentage\n",
    "\n",
    "for i in range(type_counts.shape[0]):\n",
    "    count = type_counts[i]\n",
    "    pct_string = '{:0.1f}%'.format(100*count/n_pokemon)\n",
    "    plt.text(count+1, i, pct_string, va = 'center', color = 'w') #'va' can be changed to 'ha' depending on vertical/horizontal bar"
   ]
  },
  {
   "cell_type": "code",
   "execution_count": null,
   "metadata": {},
   "outputs": [],
   "source": [
    "# using bar charts to count missing values\n",
    "\n",
    "na_count = df.isna().sum()\n",
    "base_color = sb.color_palette()[0]\n",
    "sb.barplot(na_counts.index.values, na_counts, color = base_color)"
   ]
  },
  {
   "cell_type": "markdown",
   "metadata": {},
   "source": [
    "#### 2. Pie chart ---- Qualitative data\n",
    "\n",
    "A pie chart is a common univariate plot type that is used to depict relative frequencies for levels of a categorical variable. Frequencies in a pie chart are depicted as wedges drawn on a circle: the larger the angle or area, the more common the categorical value taken."
   ]
  },
  {
   "cell_type": "code",
   "execution_count": null,
   "metadata": {},
   "outputs": [],
   "source": [
    "sorted_counts = df['cat_var'].value_counts()\n",
    "plt.pie(sorted_counts, labels = sorted_counts.index, startangle = 90,\n",
    "        countclock = False)\n",
    "plt.axis('square')\n",
    "\n",
    "# to make 'donut plot' on basis of pie chart, just add 'wedgeprops = {'width': 0.4}'"
   ]
  },
  {
   "cell_type": "markdown",
   "metadata": {},
   "source": [
    "#### 3. Histograms ---- Quantitative data\n",
    "A histogram is used to plot the distribution of a numeric variable. It's the quantitative version of the bar chart. However, rather than plot one bar for each unique numeric value, values are grouped into continuous bins, and one bar for each bin is plotted depicting the number. For instance, using the default settings for matplotlib's hist function:"
   ]
  },
  {
   "cell_type": "code",
   "execution_count": null,
   "metadata": {},
   "outputs": [],
   "source": [
    "# matplotlib\n",
    "bins = np.arange(0, pokemon.speed.max()+5, 5)\n",
    "plt.hist(data = pokemon, x = 'speed', bins = bins)\n",
    "\n",
    "# seaborn\n",
    "bins = np.arange(0, pokemon.speed.max()+5, 5)\n",
    "sb.displot(pokemon['speed'], bins = bins, kde = False, \n",
    "           hist_kws = {'alpha':1})  # transparency"
   ]
  },
  {
   "cell_type": "markdown",
   "metadata": {},
   "source": [
    "#### 4. Exceptions:\n",
    "#### Discrete Data ---- Bar chart with non-connected bins \n",
    "#### Ordinal Data --- Histogram."
   ]
  },
  {
   "cell_type": "code",
   "execution_count": null,
   "metadata": {},
   "outputs": [],
   "source": [
    "# take die_roll for example, which will only give numbers from 2 to 12.\n",
    "# Adds the \"rwidth\" parameter to set the proportion of the bin widths that will be filled by each histogram bar.\n",
    "\n",
    "bin_edges = np.arange(1.5, 12.5+1, 1)\n",
    "plt.hist(die_rolls, bins = bin_edges, rwidth = 0.7)\n",
    "plt.xticks(np.arange(2, 12+1, 1))"
   ]
  },
  {
   "cell_type": "markdown",
   "metadata": {},
   "source": [
    "#### 4. Descriptive Statistics and Outliers \n",
    "1). Axis Limits"
   ]
  },
  {
   "cell_type": "code",
   "execution_count": null,
   "metadata": {},
   "outputs": [],
   "source": [
    "# Simily add x-axis limitations to get rid of the outliers first\n",
    "\n",
    "plt.xlim(0, 35)"
   ]
  },
  {
   "cell_type": "markdown",
   "metadata": {},
   "source": [
    "2). Scales and Transformations: Certain data distributions will find themselves amenable to scale transformations. The most common example of this is data that follows an approximately log-normal distribution. This is data that, in their natural units, can look highly skewed: lots of points with low values, with a very long tail of data points with large values. However, after applying a logarithmic transform to the data, the data will follow a normal distribution."
   ]
  },
  {
   "cell_type": "code",
   "execution_count": null,
   "metadata": {},
   "outputs": [],
   "source": [
    "np.log10(pokemon['weight'].describe())  #--- to get the range of the x ticks (-1 to 3)\n",
    "\n",
    "bins = 10 ** np.arange(-1, 3 + 0.1, 0.1)\n",
    "ticks = [0.1, 0.3, 1, 3, 10, 30, 100, 300, 1000]  #---add 0.3, 3, 30, 300 to the original ticks\n",
    "labels = ['{}'.format(v) for v in ticks]\n",
    "plt.hist(data = pokemon, x = 'weight', bins = bins)\n",
    "plt.xscale('log')"
   ]
  },
  {
   "cell_type": "code",
   "execution_count": null,
   "metadata": {},
   "outputs": [],
   "source": []
  },
  {
   "cell_type": "markdown",
   "metadata": {},
   "source": [
    "### Explanatory analysis \n",
    "Explanatory analysis is done when you are providing your results for others. These visualizations need to provide you the emphasis necessary to convey your message. They should be accurate, insightful, and visually appealing."
   ]
  },
  {
   "cell_type": "code",
   "execution_count": null,
   "metadata": {},
   "outputs": [],
   "source": []
  }
 ],
 "metadata": {
  "kernelspec": {
   "display_name": "Python 3",
   "language": "python",
   "name": "python3"
  },
  "language_info": {
   "codemirror_mode": {
    "name": "ipython",
    "version": 3
   },
   "file_extension": ".py",
   "mimetype": "text/x-python",
   "name": "python",
   "nbconvert_exporter": "python",
   "pygments_lexer": "ipython3",
   "version": "3.6.8"
  }
 },
 "nbformat": 4,
 "nbformat_minor": 2
}
